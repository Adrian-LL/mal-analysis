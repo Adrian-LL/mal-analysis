{
 "cells": [
  {
   "cell_type": "code",
   "execution_count": null,
   "metadata": {},
   "outputs": [],
   "source": [
    "import pandas as pd\n",
    "import numpy as np\n",
    "import matplotlib.pyplot as plt\n",
    "import seaborn as sns\n",
    "import re"
   ]
  },
  {
   "cell_type": "code",
   "execution_count": null,
   "metadata": {},
   "outputs": [],
   "source": [
    "animes = pd.read_csv('anime_filtered.csv')\n",
    "users = pd.read_csv('users_filtered.csv')\n",
    "animelists = pd.read_csv('animelists_filtered.csv')"
   ]
  },
  {
   "cell_type": "code",
   "execution_count": null,
   "metadata": {},
   "outputs": [],
   "source": [
    "users.describe()"
   ]
  },
  {
   "cell_type": "code",
   "execution_count": null,
   "metadata": {},
   "outputs": [],
   "source": [
    "# dropping users with invalid and obviously incorrect dates\n",
    "users['birth_date'] = pd.to_datetime(users['birth_date'], errors='coerce')\n",
    "users['last_online'] = pd.to_datetime(users['last_online'], errors='coerce')\n",
    "users['join_date'] = pd.to_datetime(users['join_date'], errors='coerce')\n",
    "users = users.dropna(subset=['birth_date', 'last_online', 'join_date'])\n",
    "#users = users[users['last_online'].dt.year > 1950]"
   ]
  },
  {
   "cell_type": "code",
   "execution_count": null,
   "metadata": {},
   "outputs": [],
   "source": [
    "animelists['my_last_updated'] = pd.to_datetime(animelists['my_last_updated'], unit='s')"
   ]
  },
  {
   "cell_type": "code",
   "execution_count": null,
   "metadata": {},
   "outputs": [],
   "source": [
    "users.describe()"
   ]
  },
  {
   "cell_type": "code",
   "execution_count": null,
   "metadata": {},
   "outputs": [],
   "source": [
    "users.head()"
   ]
  },
  {
   "cell_type": "code",
   "execution_count": null,
   "metadata": {},
   "outputs": [],
   "source": [
    "users['gender'].hist()"
   ]
  },
  {
   "cell_type": "code",
   "execution_count": null,
   "metadata": {},
   "outputs": [],
   "source": [
    "users['gender'].value_counts().plot.pie()"
   ]
  },
  {
   "cell_type": "code",
   "execution_count": null,
   "metadata": {},
   "outputs": [],
   "source": [
    "users.dtypes"
   ]
  },
  {
   "cell_type": "code",
   "execution_count": null,
   "metadata": {},
   "outputs": [],
   "source": [
    "users['birth_date'].dt.year.hist(bins=50, figsize=(16, 8))"
   ]
  },
  {
   "cell_type": "code",
   "execution_count": null,
   "metadata": {},
   "outputs": [],
   "source": [
    "users['last_online'].dt.year.hist(bins=50, figsize=(16, 8))"
   ]
  },
  {
   "cell_type": "code",
   "execution_count": null,
   "metadata": {
    "scrolled": true
   },
   "outputs": [],
   "source": [
    "users['birth_date'].value_counts()"
   ]
  },
  {
   "cell_type": "code",
   "execution_count": null,
   "metadata": {},
   "outputs": [],
   "source": [
    "users[users['birth_date'] == '1944-11-19']"
   ]
  },
  {
   "cell_type": "code",
   "execution_count": null,
   "metadata": {
    "scrolled": true
   },
   "outputs": [],
   "source": [
    "users['last_online'].value_counts()"
   ]
  },
  {
   "cell_type": "code",
   "execution_count": null,
   "metadata": {},
   "outputs": [],
   "source": [
    "users[users['last_online'].dt.year == 1900].head()"
   ]
  },
  {
   "cell_type": "code",
   "execution_count": null,
   "metadata": {},
   "outputs": [],
   "source": [
    "users['join_date'].dt.year.hist(bins=14, figsize=(16, 8))"
   ]
  },
  {
   "cell_type": "code",
   "execution_count": null,
   "metadata": {},
   "outputs": [],
   "source": [
    "(2018 - users['birth_date'].dt.year).plot(kind='hist', bins=80, figsize=(16, 8), title='age')\n",
    "plt.gca().grid('on')"
   ]
  },
  {
   "cell_type": "code",
   "execution_count": null,
   "metadata": {},
   "outputs": [],
   "source": [
    "# some user with weird last online date\n",
    "animelists[animelists['username'] == 'RedvelvetDaisuki']"
   ]
  },
  {
   "cell_type": "code",
   "execution_count": null,
   "metadata": {},
   "outputs": [],
   "source": [
    "animelists.dtypes"
   ]
  },
  {
   "cell_type": "code",
   "execution_count": null,
   "metadata": {},
   "outputs": [],
   "source": [
    "grouped_lists = animelists.groupby('username')"
   ]
  },
  {
   "cell_type": "code",
   "execution_count": null,
   "metadata": {},
   "outputs": [],
   "source": [
    "%%timeit\n",
    "# some users have weird last online date, but have correct last update in their animelist, so I can infer it from that.\n",
    "#Now I am just trying it\n",
    "#animelists[animelists['username'] == 'RedvelvetDaisuki']['my_last_updated'].max()\n",
    "# 3.2 s ± 38.1 ms per loop (mean ± std. dev. of 7 runs, 1 loop each)\n",
    "grouped_lists.get_group('RedvelvetDaisuki')['my_last_updated'].max()\n",
    "# 991 µs ± 72.4 µs per loop (mean ± std. dev. of 7 runs, 1 loop each)\n",
    "# so once grouping and then queying group per username is much faster than performing search each time"
   ]
  },
  {
   "cell_type": "code",
   "execution_count": null,
   "metadata": {},
   "outputs": [],
   "source": [
    "#now really inferring the best estimation of last online\n",
    "users.loc[users['last_online'].dt.year == 1900, 'last_online'] = users[users['last_online'].dt.year == 1900]['username'].apply(lambda x: grouped_lists.get_group(x)['my_last_updated'].max())\n"
   ]
  },
  {
   "cell_type": "code",
   "execution_count": null,
   "metadata": {},
   "outputs": [],
   "source": [
    "users['last_online'].dt.year.hist(bins=11, figsize=(16, 8))"
   ]
  },
  {
   "cell_type": "code",
   "execution_count": null,
   "metadata": {},
   "outputs": [],
   "source": [
    "animes.head()"
   ]
  },
  {
   "cell_type": "code",
   "execution_count": null,
   "metadata": {},
   "outputs": [],
   "source": [
    "animes['episodes'].value_counts()"
   ]
  },
  {
   "cell_type": "code",
   "execution_count": null,
   "metadata": {},
   "outputs": [],
   "source": [
    "animes[animes['anime_id'] == 21]"
   ]
  },
  {
   "cell_type": "code",
   "execution_count": null,
   "metadata": {},
   "outputs": [],
   "source": [
    "animelists_with_eps = pd.merge(animelists, animes[['anime_id', 'episodes', 'title']], on='anime_id')"
   ]
  },
  {
   "cell_type": "code",
   "execution_count": null,
   "metadata": {},
   "outputs": [],
   "source": [
    "animelists_with_eps.head()"
   ]
  },
  {
   "cell_type": "code",
   "execution_count": null,
   "metadata": {},
   "outputs": [],
   "source": [
    "# just showing shitheads with incorrectly filled episodes\n",
    "err_mask = (animelists_with_eps['my_watched_episodes'] > animelists_with_eps['episodes']) & (animelists_with_eps['episodes'] != 0)\n",
    "animelists_with_eps[err_mask]"
   ]
  },
  {
   "cell_type": "code",
   "execution_count": null,
   "metadata": {},
   "outputs": [],
   "source": [
    "# fixing incorrectly filled my_watched_episodes\n",
    "animelists.loc[err_mask, 'my_watched_episodes'] = animelists_with_eps[err_mask]['episodes']"
   ]
  },
  {
   "cell_type": "code",
   "execution_count": null,
   "metadata": {},
   "outputs": [],
   "source": [
    "animelists[err_mask]"
   ]
  },
  {
   "cell_type": "code",
   "execution_count": null,
   "metadata": {},
   "outputs": [],
   "source": [
    "# example of watch time of some user with fixed episodes cound and thus watch time needs fix too.\n",
    "# So watch time will be tested and reconstructed in this part\n",
    "users[users['username'] == 'heeroYuy']"
   ]
  },
  {
   "cell_type": "code",
   "execution_count": null,
   "metadata": {},
   "outputs": [],
   "source": [
    "animelists[animelists['username'] == 'heeroYuy']"
   ]
  },
  {
   "cell_type": "code",
   "execution_count": null,
   "metadata": {},
   "outputs": [],
   "source": [
    "animes.columns"
   ]
  },
  {
   "cell_type": "code",
   "execution_count": null,
   "metadata": {},
   "outputs": [],
   "source": [
    "animes[['anime_id', 'title', 'episodes', 'duration']].head()"
   ]
  },
  {
   "cell_type": "code",
   "execution_count": null,
   "metadata": {},
   "outputs": [],
   "source": [
    "animes['duration'].value_counts()"
   ]
  },
  {
   "cell_type": "code",
   "execution_count": null,
   "metadata": {},
   "outputs": [],
   "source": [
    "# calculating watch time in minutes and adding it to new column for anime\n",
    "def str_to_minutes(string):\n",
    "    m = re.search('((\\d+) hr\\.)?( ?(\\d+) min\\.)?( ?(\\d+) sec\\.)?( per ep\\.)?', string)\n",
    "    hours = 0 if m.group(2) is None else int(m.group(2))\n",
    "    minutes = 0 if m.group(4) is None else int(m.group(4))\n",
    "    seconds = 0 if m.group(6) is None else int(m.group(6))\n",
    "    return hours * 60 + minutes + seconds / 60\n",
    "\n",
    "animes['duration_min'] = animes['duration'].apply(str_to_minutes)"
   ]
  },
  {
   "cell_type": "code",
   "execution_count": null,
   "metadata": {},
   "outputs": [],
   "source": [
    "animes[['anime_id', 'title', 'episodes', 'duration', 'duration_min']].head()"
   ]
  },
  {
   "cell_type": "code",
   "execution_count": null,
   "metadata": {},
   "outputs": [],
   "source": [
    "lists_with_mins = pd.merge(animelists, animes[['anime_id', 'duration_min', 'title']], on='anime_id')"
   ]
  },
  {
   "cell_type": "code",
   "execution_count": null,
   "metadata": {},
   "outputs": [],
   "source": [
    "one_user_data = lists_with_mins[lists_with_mins['username'] == 'heeroYuy']\n",
    "one_user_data"
   ]
  },
  {
   "cell_type": "code",
   "execution_count": null,
   "metadata": {},
   "outputs": [],
   "source": [
    "(one_user_data['my_watched_episodes'] * one_user_data['duration_min']).sum() / (60 * 24) # because it is in days"
   ]
  },
  {
   "cell_type": "code",
   "execution_count": null,
   "metadata": {},
   "outputs": [],
   "source": [
    "users[users['username'] == 'heeroYuy']"
   ]
  },
  {
   "cell_type": "code",
   "execution_count": null,
   "metadata": {},
   "outputs": [],
   "source": [
    "users[users['username'] == 'abystoma2']"
   ]
  },
  {
   "cell_type": "code",
   "execution_count": null,
   "metadata": {},
   "outputs": [],
   "source": [
    "one_user_data = lists_with_mins[lists_with_mins['username'] == 'abystoma2']\n",
    "(one_user_data['my_watched_episodes'] * one_user_data['duration_min']).sum() / (60 * 24) # because it is in days"
   ]
  },
  {
   "cell_type": "code",
   "execution_count": null,
   "metadata": {},
   "outputs": [],
   "source": [
    "# one weird user with 2601351.02 days watches ruins the plot, ommiting him by xlim\n",
    "users['user_days_spent_watching'].hist(bins=5000, figsize=(16, 8))\n",
    "plt.gca().set_yscale('log')\n",
    "plt.gca().set_xlim([0, 50000])\n"
   ]
  },
  {
   "cell_type": "code",
   "execution_count": null,
   "metadata": {},
   "outputs": [],
   "source": [
    "users['user_days_spent_watching'].max()"
   ]
  },
  {
   "cell_type": "code",
   "execution_count": null,
   "metadata": {},
   "outputs": [],
   "source": [
    "users[users['user_days_spent_watching'] == 2601351.02]"
   ]
  },
  {
   "cell_type": "code",
   "execution_count": null,
   "metadata": {},
   "outputs": [],
   "source": [
    "one_user_data = lists_with_mins[lists_with_mins['username'] == 'warrose']\n",
    "(one_user_data['my_watched_episodes'] * one_user_data['duration_min']).sum() / (60 * 24) # because it is in days"
   ]
  },
  {
   "cell_type": "code",
   "execution_count": null,
   "metadata": {},
   "outputs": [],
   "source": [
    "grouped_lists = lists_with_mins.groupby('username')\n",
    "\n",
    "def count_to_days(group):\n",
    "    return (group['my_watched_episodes'] * group['duration_min']).sum() / (60 * 24)"
   ]
  },
  {
   "cell_type": "code",
   "execution_count": null,
   "metadata": {},
   "outputs": [],
   "source": [
    "%%timeit\n",
    "#(grouped_lists.get_group('warrose')['my_watched_episodes'] * grouped_lists.get_group('warrose')['duration_min']).sum() / (60 * 24)\n",
    "# 2.88 ms ± 108 µs per loop (mean ± std. dev. of 7 runs, 100 loops each)\n",
    "count_to_days(grouped_lists.get_group('warrose'))\n",
    "# 1.63 ms ± 58.9 µs per loop (mean ± std. dev. of 7 runs, 1000 loops each)"
   ]
  },
  {
   "cell_type": "code",
   "execution_count": null,
   "metadata": {},
   "outputs": [],
   "source": [
    "# now finally fixing days watch times\n",
    "users['user_days_spent_watching'] = users['username'].apply(lambda x: count_to_days(grouped_lists.get_group(x)))\n"
   ]
  },
  {
   "cell_type": "code",
   "execution_count": null,
   "metadata": {},
   "outputs": [],
   "source": [
    "users['user_days_spent_watching'].hist(bins=5000, figsize=(16, 8))\n",
    "plt.gca().set_yscale('log')\n",
    "plt.gca().set_xlim([0, 50000])\n"
   ]
  },
  {
   "cell_type": "code",
   "execution_count": null,
   "metadata": {},
   "outputs": [],
   "source": [
    "animes.to_csv('anime_cleaned.csv', index=False, sep=',', encoding='utf-8')\n",
    "users.to_csv('users_cleaned.csv', index=False, sep=',', encoding='utf-8')\n",
    "animelists.to_csv('animelists_cleaned.csv', index=False, sep=',', encoding='utf-8')"
   ]
  },
  {
   "cell_type": "code",
   "execution_count": null,
   "metadata": {},
   "outputs": [],
   "source": []
  }
 ],
 "metadata": {
  "kernelspec": {
   "display_name": "Python 3",
   "language": "python",
   "name": "python3"
  },
  "language_info": {
   "codemirror_mode": {
    "name": "ipython",
    "version": 3
   },
   "file_extension": ".py",
   "mimetype": "text/x-python",
   "name": "python",
   "nbconvert_exporter": "python",
   "pygments_lexer": "ipython3",
   "version": "3.6.4"
  }
 },
 "nbformat": 4,
 "nbformat_minor": 2
}
